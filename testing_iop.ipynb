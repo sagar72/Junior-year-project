{
 "cells": [
  {
   "cell_type": "code",
   "execution_count": 1,
   "metadata": {},
   "outputs": [
    {
     "name": "stderr",
     "output_type": "stream",
     "text": [
      "/home/sagar/anaconda2/lib/python2.7/site-packages/h5py/__init__.py:36: FutureWarning: Conversion of the second argument of issubdtype from `float` to `np.floating` is deprecated. In future, it will be treated as `np.float64 == np.dtype(float).type`.\n",
      "  from ._conv import register_converters as _register_converters\n",
      "Using TensorFlow backend.\n"
     ]
    }
   ],
   "source": [
    "import keras\n",
    "import numpy as np\n",
    "from keras.utils import to_categorical\n",
    "import matplotlib.pyplot as plt\n",
    "%matplotlib inline\n",
    "from keras.models import model_from_json"
   ]
  },
  {
   "cell_type": "code",
   "execution_count": 26,
   "metadata": {},
   "outputs": [
    {
     "name": "stdout",
     "output_type": "stream",
     "text": [
      "loaded model\n"
     ]
    }
   ],
   "source": [
    "#Model\n",
    "json_file  =  open('iop_model.json','r')\n",
    "loaded_model_json = json_file.read()\n",
    "json_file.close()\n",
    "loaded_model = model_from_json(loaded_model_json)\n",
    "\n",
    "#Weights\n",
    "loaded_model.load_weights(\"iop_model.h5\")\n",
    "print(\"loaded model\")\n",
    "\n",
    "categories = {}\n",
    "categories[0] = \"T-shirt/top\"\n",
    "categories[1] = \"Trouser\"\n",
    "categories[2] = \"Pullover\"\n",
    "categories[3] = \"Dress\"\n",
    "categories[4] = \"Coat\"\n",
    "categories[5] = \"Sandal\"\n",
    "categories[6] = \"Shirt\"\n",
    "categories[7] = \"Sneaker\"\n",
    "categories[8] = \"Bag\"\n",
    "categories[9] = \"Ankle boot\""
   ]
  },
  {
   "cell_type": "code",
   "execution_count": 29,
   "metadata": {},
   "outputs": [],
   "source": [
    "#testing image and preprocessing\n",
    "path = '/home/sagar/Downloads/iop_test1.jpg'\n",
    "\n",
    "import cv2\n",
    "img = cv2.imread(path,0)\n",
    "img = np.array(img)\n",
    "img = cv2.resize(img, (28,28)) \n",
    "img.astype('float32')\n",
    "img = img/255."
   ]
  },
  {
   "cell_type": "code",
   "execution_count": 30,
   "metadata": {},
   "outputs": [],
   "source": [
    "pre = loaded_model.predict(img[None,:,:,None])"
   ]
  },
  {
   "cell_type": "code",
   "execution_count": 31,
   "metadata": {},
   "outputs": [
    {
     "data": {
      "text/plain": [
       "array([[5.8953059e-01, 1.8188619e-05, 3.8490461e-03, 7.3928991e-04,\n",
       "        5.6124198e-05, 4.9645649e-03, 1.0765067e-02, 1.8799224e-06,\n",
       "        3.9007401e-01, 1.2415508e-06]], dtype=float32)"
      ]
     },
     "execution_count": 31,
     "metadata": {},
     "output_type": "execute_result"
    }
   ],
   "source": [
    "pre\n"
   ]
  },
  {
   "cell_type": "code",
   "execution_count": 37,
   "metadata": {},
   "outputs": [
    {
     "name": "stdout",
     "output_type": "stream",
     "text": [
      "predicted class: \n"
     ]
    },
    {
     "data": {
      "image/png": "[encoded data removed]",
      "text/plain": [
       "<matplotlib.figure.Figure at 0x7f2214718a90>"
      ]
     },
     "metadata": {},
     "output_type": "display_data"
    }
   ],
   "source": [
    "pre = np.argmax(np.round(pre))\n",
    "print(\"predicted class: \".format(categories[pre]))\n",
    "plt.imshow(img, cmap='gray', interpolation='none')\n",
    "plt.tight_layout()"
   ]
  },
  {
   "cell_type": "code",
   "execution_count": null,
   "metadata": {},
   "outputs": [],
   "source": []
  }
 ],
 "metadata": {
  "kernelspec": {
   "display_name": "Python 2",
   "language": "python",
   "name": "python2"
  },
  "language_info": {
   "codemirror_mode": {
    "name": "ipython",
    "version": 2
   },
   "file_extension": ".py",
   "mimetype": "text/x-python",
   "name": "python",
   "nbconvert_exporter": "python",
   "pygments_lexer": "ipython2",
   "version": "2.7.14"
  }
 },
 "nbformat": 4,
 "nbformat_minor": 2
}
